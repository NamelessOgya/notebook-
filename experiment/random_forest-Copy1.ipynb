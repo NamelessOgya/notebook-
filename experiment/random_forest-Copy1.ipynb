{
 "cells": [
  {
   "cell_type": "markdown",
   "id": "b2a71eb6-0a70-45d1-ba2b-cfc87d3ba2e7",
   "metadata": {
    "tags": []
   },
   "source": [
    "# param "
   ]
  },
  {
   "cell_type": "code",
   "execution_count": 47,
   "id": "a3259b8c-31ac-4ce0-b52c-caa45574dec2",
   "metadata": {
    "tags": [
     "param"
    ]
   },
   "outputs": [],
   "source": [
    "p_max_depth = 1\n",
    "p_n_estimators = 2"
   ]
  },
  {
   "cell_type": "markdown",
   "id": "9f6ce31f-8cd7-4b0b-b6e6-6cd751f45594",
   "metadata": {
    "tags": []
   },
   "source": [
    "# import"
   ]
  },
  {
   "cell_type": "code",
   "execution_count": 48,
   "id": "524d9d21-4a0b-4a4a-803e-fbbbb67f66b5",
   "metadata": {
    "tags": [
     "import"
    ]
   },
   "outputs": [],
   "source": [
    "from google.cloud import bigquery"
   ]
  },
  {
   "cell_type": "code",
   "execution_count": 49,
   "id": "2f0501ec-9bba-466d-88fc-0c130ac0d6ed",
   "metadata": {
    "tags": [
     "import"
    ]
   },
   "outputs": [],
   "source": [
    "import pandas as pd"
   ]
  },
  {
   "cell_type": "code",
   "execution_count": 50,
   "id": "5ad49114-4865-48ec-b518-63e68d1f6f96",
   "metadata": {
    "tags": [
     "import"
    ]
   },
   "outputs": [],
   "source": [
    "import datetime"
   ]
  },
  {
   "cell_type": "code",
   "execution_count": 51,
   "id": "336c8683-997e-47b7-9a00-61583712ce04",
   "metadata": {
    "tags": [
     "import"
    ]
   },
   "outputs": [],
   "source": [
    "import numpy as np"
   ]
  },
  {
   "cell_type": "code",
   "execution_count": 52,
   "id": "94e769cc-426d-444b-9017-09885f8a7673",
   "metadata": {
    "tags": [
     "import"
    ]
   },
   "outputs": [],
   "source": [
    "from sklearn.ensemble import RandomForestClassifier\n",
    "from sklearn.model_selection import train_test_split\n",
    "from sklearn.preprocessing import OneHotEncoder\n",
    "from sklearn.metrics import accuracy_score"
   ]
  },
  {
   "cell_type": "code",
   "execution_count": 53,
   "id": "66effeff-3c75-499b-b67a-33861c222a5f",
   "metadata": {
    "tags": [
     "import"
    ]
   },
   "outputs": [],
   "source": [
    "import pickle as pk"
   ]
  },
  {
   "cell_type": "code",
   "execution_count": 54,
   "id": "a983c1fa-ff2d-4665-9bb5-848fdb33f3b6",
   "metadata": {
    "tags": [
     "import"
    ]
   },
   "outputs": [],
   "source": [
    "from google.cloud import storage as gcs"
   ]
  },
  {
   "cell_type": "code",
   "execution_count": 55,
   "id": "5a117b55-655d-4876-91f0-68299f3f3cc2",
   "metadata": {
    "tags": [
     "import"
    ]
   },
   "outputs": [],
   "source": [
    "import google.cloud.aiplatform as aip"
   ]
  },
  {
   "cell_type": "markdown",
   "id": "03db018e-d691-444c-b934-0bd94398c3c7",
   "metadata": {
    "tags": []
   },
   "source": [
    "# preprocess"
   ]
  },
  {
   "cell_type": "code",
   "execution_count": 56,
   "id": "1f0a07da-6fee-487c-b79d-2baeb7f51cce",
   "metadata": {
    "tags": [
     "preprocess"
    ]
   },
   "outputs": [],
   "source": [
    "client = bigquery.Client()"
   ]
  },
  {
   "cell_type": "code",
   "execution_count": 57,
   "id": "ef983347-41f3-42ff-be52-9b58ffb8cda7",
   "metadata": {
    "tags": [
     "preprocess"
    ]
   },
   "outputs": [],
   "source": [
    "def load_from_bq(query):\n",
    "    return client.query(query).to_dataframe()"
   ]
  },
  {
   "cell_type": "code",
   "execution_count": 58,
   "id": "a841db6b-0aa0-466a-afea-1fd192966d7e",
   "metadata": {
    "tags": [
     "preprocess"
    ]
   },
   "outputs": [],
   "source": [
    "query = \"\"\"\n",
    "SELECT \n",
    "  t1.PassengerId\t\n",
    "  ,Survived\t\n",
    "  ,Pclass\t\t\n",
    "  ,Name\t\t\n",
    "  ,Sex\n",
    "  ,Age\t\n",
    "  ,SibSp\n",
    "  ,Parch\n",
    "  ,Ticket\n",
    "  ,Fare\n",
    "  ,Cabin\n",
    "  ,Embarked\n",
    "FROM `test-hyron.titanic_data.test` t1\n",
    "LEFT JOIN `test-hyron.titanic_data.gender_submission` t2\n",
    "  ON t1.PassengerId = t2.PassengerId\n",
    "\"\"\"\n",
    "df_test = load_from_bq(query)"
   ]
  },
  {
   "cell_type": "code",
   "execution_count": 59,
   "id": "3ebf32bb-2baa-45c8-aa3e-a436eab16a8f",
   "metadata": {
    "tags": [
     "preprocess"
    ]
   },
   "outputs": [],
   "source": [
    "query = \"\"\"\n",
    "SELECT  \n",
    "    *\n",
    "FROM `test-hyron.titanic_data.train` \n",
    "\"\"\"\n",
    "df_train = load_from_bq(query)"
   ]
  },
  {
   "cell_type": "code",
   "execution_count": 60,
   "id": "a0e39d0d-eede-46d9-9627-e40520bdfc0c",
   "metadata": {
    "tags": [
     "preprocess"
    ]
   },
   "outputs": [],
   "source": [
    "train, val = train_test_split(df_train)"
   ]
  },
  {
   "cell_type": "code",
   "execution_count": 61,
   "id": "35b380f2-8aa4-4ba5-8249-3ceaaad3ccb9",
   "metadata": {
    "tags": [
     "preprocess"
    ]
   },
   "outputs": [],
   "source": [
    "def make_encorder(df):\n",
    "    x_ = df[[\"Pclass\", \"Sex\", \"SibSp\", \"Embarked\"]]\n",
    "    \n",
    "    enc = OneHotEncoder()\n",
    "    enc.fit(x_)\n",
    "    \n",
    "    return enc"
   ]
  },
  {
   "cell_type": "code",
   "execution_count": 62,
   "id": "c7b81aee-7356-420a-b809-be396ccb1ea2",
   "metadata": {
    "tags": [
     "preprocess"
    ]
   },
   "outputs": [],
   "source": [
    "enc = make_encorder(df_train)"
   ]
  },
  {
   "cell_type": "code",
   "execution_count": 63,
   "id": "857a9f51-b0fe-494b-9b93-5129b3568e08",
   "metadata": {
    "tags": [
     "preprocess"
    ]
   },
   "outputs": [],
   "source": [
    "def make_xy(df, enc):\n",
    "    x_ = df[[\"Pclass\", \"Sex\", \"Age\", \"SibSp\", \"Fare\", \"Embarked\"]]\n",
    "    \n",
    "    if \"Survived\" in df.columns:\n",
    "        y_ = df[\"Survived\"]\n",
    "    else:\n",
    "        y_ = 0\n",
    "    \n",
    "    #ここから欠損値の補完やらone-hot化やら\n",
    "    x_float    = x_[[\"Age\", \"Fare\"]]\n",
    "    x_category = x_[[\"Pclass\", \"Sex\", \"SibSp\", \"Embarked\"]]\n",
    "    \n",
    "    x_float = x_float.fillna(0)\n",
    "    \n",
    "    #enc = OneHotEncoder(handle_unknown='ignore')\n",
    "    #enc.fit(x_category)\n",
    "    \n",
    "    \n",
    "    \n",
    "    x = enc.transform(x_category).toarray()\n",
    "\n",
    "    li = []\n",
    "    for col_name, elements in zip(x_category.columns, enc.categories_):\n",
    "        for e in elements:\n",
    "            li.append(col_name +\"_\" +  str(e))\n",
    "    #print(enc.categories_)\n",
    "    cols_ = list(x_float.columns) + li\n",
    "    values_ =  np.concatenate([x_float.values, x], axis = 1)\n",
    "    \n",
    "    x_ = pd.DataFrame(values_, columns = cols_)\n",
    "    \n",
    "    return x_, y_"
   ]
  },
  {
   "cell_type": "code",
   "execution_count": 64,
   "id": "450c72d7-2ec3-4a03-8b0d-0b2e0b6554ec",
   "metadata": {
    "tags": [
     "preprocess"
    ]
   },
   "outputs": [],
   "source": [
    "x_train, y_train = make_xy(train, enc)\n",
    "x_val, y_val     = make_xy(val, enc)\n",
    "x_test, y_test        = make_xy(df_test, enc)"
   ]
  },
  {
   "cell_type": "markdown",
   "id": "49fa85d9-aab3-41be-aa71-ace4348163a0",
   "metadata": {
    "tags": []
   },
   "source": [
    "# train"
   ]
  },
  {
   "cell_type": "code",
   "execution_count": 65,
   "id": "937a3f0b-3780-465b-bb0d-1d1ec87177bb",
   "metadata": {
    "tags": [
     "train"
    ]
   },
   "outputs": [],
   "source": [
    "clf = RandomForestClassifier(max_depth=p_max_depth , n_estimators = p_n_estimators)"
   ]
  },
  {
   "cell_type": "code",
   "execution_count": 66,
   "id": "76862b90-9a8b-45df-a862-b775cf681911",
   "metadata": {
    "tags": [
     "train"
    ]
   },
   "outputs": [
    {
     "data": {
      "text/plain": [
       "RandomForestClassifier(max_depth=1, n_estimators=2)"
      ]
     },
     "execution_count": 66,
     "metadata": {},
     "output_type": "execute_result"
    }
   ],
   "source": [
    "clf.fit(x_train, y_train)"
   ]
  },
  {
   "cell_type": "markdown",
   "id": "842b9efb-e73a-4e56-8de5-6ded4ea9760b",
   "metadata": {},
   "source": [
    "# test"
   ]
  },
  {
   "cell_type": "code",
   "execution_count": 67,
   "id": "b73929b4-d304-42f7-8648-7c952941fc70",
   "metadata": {
    "tags": [
     "test"
    ]
   },
   "outputs": [],
   "source": [
    "val_score = accuracy_score(y_val, clf.predict(x_val))"
   ]
  },
  {
   "cell_type": "code",
   "execution_count": 68,
   "id": "582903b4-f5af-4c99-880a-7b4da6d3070d",
   "metadata": {
    "tags": [
     "test"
    ]
   },
   "outputs": [],
   "source": [
    "test_score = accuracy_score(y_test, clf.predict(x_test))"
   ]
  },
  {
   "cell_type": "code",
   "execution_count": 69,
   "id": "5c63b107-b770-420c-b931-0ed6bee2147a",
   "metadata": {
    "tags": [
     "test"
    ]
   },
   "outputs": [
    {
     "data": {
      "text/plain": [
       "0.6363636363636364"
      ]
     },
     "execution_count": 69,
     "metadata": {},
     "output_type": "execute_result"
    }
   ],
   "source": [
    "test_score"
   ]
  },
  {
   "cell_type": "code",
   "execution_count": 70,
   "id": "83214b04-eb37-4568-98a2-4b14d612001f",
   "metadata": {
    "tags": [
     "test"
    ]
   },
   "outputs": [
    {
     "data": {
      "text/plain": [
       "0.6098654708520179"
      ]
     },
     "execution_count": 70,
     "metadata": {},
     "output_type": "execute_result"
    }
   ],
   "source": [
    "val_score"
   ]
  },
  {
   "cell_type": "markdown",
   "id": "ea27df3d-4667-4910-9ec4-d84f4301f84f",
   "metadata": {
    "tags": []
   },
   "source": [
    "# model_save"
   ]
  },
  {
   "cell_type": "code",
   "execution_count": 133,
   "id": "0051b0eb-fad9-43d7-962f-8dbc2c88eb20",
   "metadata": {
    "tags": [
     "model_save"
    ]
   },
   "outputs": [],
   "source": [
    "# client = gcs.Client(\"test-hyron\")\n",
    "# bucket = client.get_bucket(\"cyberpot-titanic\")\n",
    "# blob = bucket.blob(\"model/model.pkl\")"
   ]
  },
  {
   "cell_type": "code",
   "execution_count": 134,
   "id": "1e27b375-d7f5-4e27-88c1-18c5e33ce9af",
   "metadata": {
    "tags": [
     "model_save"
    ]
   },
   "outputs": [],
   "source": [
    "# pk.dump(clf, blob.open('wb'))"
   ]
  },
  {
   "cell_type": "code",
   "execution_count": 135,
   "id": "6f5785ef-d0a1-46a9-87cf-2cb14cb3586a",
   "metadata": {
    "tags": [
     "model_save"
    ]
   },
   "outputs": [],
   "source": [
    "# model = aip.Model.upload(\n",
    "#     display_name='my-model',\n",
    "#     artifact_uri=\"gs://cyberpot-titanic/model\",\n",
    "#     serving_container_image_uri =\"gcr.io/deeplearning-platform-release/sklearn-cpu\"\n",
    "# )"
   ]
  },
  {
   "cell_type": "code",
   "execution_count": null,
   "id": "4bb4593e-f0ea-4eac-b04d-d0974c5784b2",
   "metadata": {
    "tags": [
     "model_save"
    ]
   },
   "outputs": [],
   "source": []
  },
  {
   "cell_type": "code",
   "execution_count": null,
   "id": "4eb76e71-4033-4bbc-af3a-4252d29d8e37",
   "metadata": {
    "tags": [
     "model_save"
    ]
   },
   "outputs": [],
   "source": []
  }
 ],
 "metadata": {
  "environment": {
   "kernel": "python3",
   "name": "common-cpu.m100",
   "type": "gcloud",
   "uri": "gcr.io/deeplearning-platform-release/base-cpu:m100"
  },
  "kernelspec": {
   "display_name": "Python 3",
   "language": "python",
   "name": "python3"
  },
  "language_info": {
   "codemirror_mode": {
    "name": "ipython",
    "version": 3
   },
   "file_extension": ".py",
   "mimetype": "text/x-python",
   "name": "python",
   "nbconvert_exporter": "python",
   "pygments_lexer": "ipython3",
   "version": "3.7.12"
  }
 },
 "nbformat": 4,
 "nbformat_minor": 5
}
